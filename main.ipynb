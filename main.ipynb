{
 "cells": [
  {
   "cell_type": "code",
   "execution_count": 1,
   "metadata": {},
   "outputs": [
    {
     "data": {
      "application/vnd.jupyter.widget-view+json": {
       "model_id": "5372359ca530410d88b2958b105298b0",
       "version_major": 2,
       "version_minor": 0
      },
      "text/plain": [
       "Image(value=b'\\x89PNG\\r\\n\\x1a\\n\\x00\\x00\\x00\\rIHDR\\x00\\x00\\x05\\x00\\x00\\x00\\x01\\x83\\x08\\x06\\x00\\x00\\x00t\\x8f\\xbd…"
      ]
     },
     "metadata": {},
     "output_type": "display_data"
    },
    {
     "data": {
      "application/vnd.jupyter.widget-view+json": {
       "model_id": "84ee19ecbc1e4c95ac43ee83e93c3f99",
       "version_major": 2,
       "version_minor": 0
      },
      "text/plain": [
       "VBox(children=(HBox(children=(Tab(children=(HBox(children=(RadioButtons(layout=Layout(flex='1 1 auto', width='…"
      ]
     },
     "metadata": {},
     "output_type": "display_data"
    }
   ],
   "source": [
    "from gui import *\n",
    "import functools #In order to have arguments in callback functions\n",
    "pui = Pull_in(sections=np.array([]))\n",
    "\n",
    "#Geometry tab\n",
    "geometry_RB.observe(functools.partial(changeGeometrySpecificationUI,pi=pui),names='value')\n",
    "inputCoordsTypeTB.observe(functools.partial(changeGeometrySpecificationUI,pi=pui),names='value')\n",
    "addSecBtn.on_click(functools.partial(addSection_callback,pi=pui))\n",
    "editSecBtn.on_click(functools.partial(editSection_callback,pi=pui))\n",
    "editSecNum_BIT.observe(functools.partial(adjustWidgetWithSectionSpecifyer,pi=pui),names='value')\n",
    "updateScnBtn.on_click(functools.partial(updateSection_callback,pi=pui))\n",
    "deleteScnBtn.on_click(functools.partial(deleteSection_callback,pi=pui))\n",
    "#importGeometryBtn.on_click(functools.partial(importGeometryBtn_callback,pi=pui))\n",
    "#geometryUploader.observe(on_upload_change, names='_counter')\n",
    "\n",
    "#Global parameters\n",
    "editGlbBtn.on_click(editGlobalParamaters)\n",
    "saveBtn.on_click(functools.partial(saveGlobalParameters,pi=pui))\n",
    "\n",
    "#Options\n",
    "tableOrientationRB.observe(functools.partial(units_RB_callback,pi=pui),names='value')\n",
    "units_RB.observe(functools.partial(units_RB_callback, pi=pui),names='value')\n",
    "\n",
    "axisEqCB.observe(functools.partial(axisEqualCB_callback,pi=pui),names='value') #Only call function when value changes. If names='value' not specified, function will be called several times\n",
    "arrowCB.observe(functools.partial(arrowCB_callback, pi=pui),names='value')\n",
    "plotCenterCB.observe(functools.partial(plotCenterCB_callback, pi=pui),names='value')\n",
    "annotateCB.observe(functools.partial(annotateCB_callback, pi=pui),names='value')\n",
    "annotationOffsetFS.observe(functools.partial(annotationOffsetFS_callback, pi=pui),names='value')\n",
    "\n",
    "#exportPdfBtn.on_click(functools.partial(export2pdf,pi=pui))\n",
    "#exportFilesBtn.on_click(functools.partial(export2separateFiles,pi=pui))\n",
    "exportFilesBtn.on_click(functools.partial(exportFiles,pi=pui))\n",
    "#saveCsvBtn.on_click(functools.partial(export2csv,pui=pui))\n",
    "\n",
    "display(imageWidget)\n",
    "display(ui)"
   ]
  }
 ],
 "metadata": {
  "kernelspec": {
   "display_name": "Python 3.10.4 ('.venv': venv)",
   "language": "python",
   "name": "python3"
  },
  "language_info": {
   "codemirror_mode": {
    "name": "ipython",
    "version": 3
   },
   "file_extension": ".py",
   "mimetype": "text/x-python",
   "name": "python",
   "nbconvert_exporter": "python",
   "pygments_lexer": "ipython3",
   "version": "3.10.4"
  },
  "orig_nbformat": 4,
  "vscode": {
   "interpreter": {
    "hash": "9dd03199d80e946468f5066de1b3e7b56b9505eeceabac8ab7ac78105f412d66"
   }
  }
 },
 "nbformat": 4,
 "nbformat_minor": 2
}
